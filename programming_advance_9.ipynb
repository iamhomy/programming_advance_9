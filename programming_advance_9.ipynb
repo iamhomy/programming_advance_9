{
 "cells": [
  {
   "cell_type": "code",
   "execution_count": 28,
   "metadata": {},
   "outputs": [],
   "source": [
    "#1a)\n",
    "def playback_duration(duration, speed):\n",
    "    l = list(map(int,duration.split(\":\")))\n",
    "    total_seconds = l[0]*3600 + l[1]*60+l[2]*1\n",
    "    new_dur = total_seconds/speed\n",
    "    hours = 0\n",
    "    minutes = 0\n",
    "    seconds = 0\n",
    "    hours = (new_dur//60)//60\n",
    "    minutes = (new_dur//60)%60\n",
    "    seconds = new_dur%60\n",
    "    \n",
    "    if len(str(int(hours)))==1:\n",
    "        x = 0\n",
    "    else:\n",
    "        x = \"\"\n",
    "    if len(str(int(minutes)))==1:\n",
    "        y = 0\n",
    "    else:\n",
    "        y = \"\"\n",
    "    if len(str(int(seconds)))==1:\n",
    "        z = 0\n",
    "    else:\n",
    "        z = \"\"\n",
    "    \n",
    "    print(f'{x}{int(hours)}:{y}{int(minutes)}:{z}{int(seconds)}')"
   ]
  },
  {
   "cell_type": "code",
   "execution_count": 32,
   "metadata": {},
   "outputs": [
    {
     "name": "stdout",
     "output_type": "stream",
     "text": [
      "102:40:18\n"
     ]
    }
   ],
   "source": [
    "playback_duration(\"51:20:09\", 0.5) "
   ]
  },
  {
   "cell_type": "code",
   "execution_count": 59,
   "metadata": {},
   "outputs": [],
   "source": [
    "#2a)\n",
    "def pile_of_cubes(m):\n",
    "   summ = 0\n",
    "   t = 0\n",
    "   while(summ<m): \n",
    "      summ +=t**3\n",
    "      if summ==m:\n",
    "            return t\n",
    "\n",
    "      t +=1\n",
    "   return None     "
   ]
  },
  {
   "cell_type": "code",
   "execution_count": 60,
   "metadata": {},
   "outputs": [
    {
     "data": {
      "text/plain": [
       "45"
      ]
     },
     "execution_count": 60,
     "metadata": {},
     "output_type": "execute_result"
    }
   ],
   "source": [
    "pile_of_cubes(1071225) "
   ]
  },
  {
   "cell_type": "code",
   "execution_count": 64,
   "metadata": {},
   "outputs": [],
   "source": [
    "#3a)\n",
    "def find_fulcrum(mylist):\n",
    "    for i in range(1,len(mylist)-1):\n",
    "        if sum(mylist[:i]) == sum(mylist[i+1:]):\n",
    "            return mylist[i]\n",
    "    return -1    "
   ]
  },
  {
   "cell_type": "code",
   "execution_count": 65,
   "metadata": {},
   "outputs": [
    {
     "data": {
      "text/plain": [
       "4"
      ]
     },
     "execution_count": 65,
     "metadata": {},
     "output_type": "execute_result"
    }
   ],
   "source": [
    "find_fulcrum([1, 2, 4, 9, 10, -10, -9, 3]) "
   ]
  },
  {
   "cell_type": "code",
   "execution_count": 74,
   "metadata": {},
   "outputs": [],
   "source": [
    "#4a)\n",
    "from collections import Counter\n",
    "def sock_merchant(mylist):\n",
    "    summ = 0\n",
    "    c = Counter(mylist)\n",
    "    #print(c)\n",
    "    for i in c.values():\n",
    "        #print(i)\n",
    "        summ+= i//2\n",
    "    \n",
    "    return summ        "
   ]
  },
  {
   "cell_type": "code",
   "execution_count": 75,
   "metadata": {},
   "outputs": [
    {
     "data": {
      "text/plain": [
       "3"
      ]
     },
     "execution_count": 75,
     "metadata": {},
     "output_type": "execute_result"
    }
   ],
   "source": [
    "sock_merchant([10, 20, 20, 10, 10, 30, 50, 10, 20]) "
   ]
  },
  {
   "cell_type": "code",
   "execution_count": 121,
   "metadata": {},
   "outputs": [],
   "source": [
    "#5a)\n",
    "import re\n",
    "def negative_sum(string):\n",
    "    x = re.findall(r'-\\d\\d',string)\n",
    "    summ = 0\n",
    "    for i in x:\n",
    "        summ += int(i)\n",
    "        \n",
    "    return summ    "
   ]
  },
  {
   "cell_type": "code",
   "execution_count": 122,
   "metadata": {},
   "outputs": [
    {
     "data": {
      "text/plain": [
       "-23"
      ]
     },
     "execution_count": 122,
     "metadata": {},
     "output_type": "execute_result"
    }
   ],
   "source": [
    "negative_sum(\"-12 13%14&-11\")"
   ]
  },
  {
   "cell_type": "code",
   "execution_count": null,
   "metadata": {},
   "outputs": [],
   "source": []
  }
 ],
 "metadata": {
  "kernelspec": {
   "display_name": "Python 3",
   "language": "python",
   "name": "python3"
  },
  "language_info": {
   "codemirror_mode": {
    "name": "ipython",
    "version": 3
   },
   "file_extension": ".py",
   "mimetype": "text/x-python",
   "name": "python",
   "nbconvert_exporter": "python",
   "pygments_lexer": "ipython3",
   "version": "3.8.3"
  }
 },
 "nbformat": 4,
 "nbformat_minor": 4
}
